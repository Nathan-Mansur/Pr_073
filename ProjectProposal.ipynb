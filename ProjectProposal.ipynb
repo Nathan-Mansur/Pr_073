{
 "cells": [
  {
   "cell_type": "markdown",
   "metadata": {},
   "source": [
    "# COGS 108 - Assignment 4: Project Proposal"
   ]
  },
  {
   "cell_type": "markdown",
   "metadata": {},
   "source": [
    "## Important\n",
    "\n",
    "- Make sure all group member (3-5 people) are listed in the group members section.\n",
    "- ONE, and only one, member of your group should upload this notebook to TritonED. \n",
    "- Each member of the group will receive the same grade on this assignment. \n",
    "- Keep the file name the same: submit the file 'A4_ProjectProposal.ipynb'"
   ]
  },
  {
   "cell_type": "markdown",
   "metadata": {},
   "source": [
    "## Overview"
   ]
  },
  {
   "cell_type": "markdown",
   "metadata": {},
   "source": [
    "Read the project description, and detailed instructions for this assignment, in the 'A4_ProjectOutlineAndProposal' pdf."
   ]
  },
  {
   "cell_type": "markdown",
   "metadata": {},
   "source": [
    "## Group Members: Fill in the Student ID's of each group member here\n",
    "- A12856595\n",
    "- A14282804\n",
    "- A12979259"
   ]
  },
  {
   "cell_type": "markdown",
   "metadata": {},
   "source": [
    "### Research Question\n",
    "\n",
    "What is your research question? (1-2 sentences)"
   ]
  },
  {
   "cell_type": "markdown",
   "metadata": {},
   "source": [
    "Which month exhibits the most crime, both violent and nonviolent, in the San Diego area and which county can it be specifically found? How much do these crimes cost to the city?"
   ]
  },
  {
   "cell_type": "markdown",
   "metadata": {},
   "source": [
    "### Hypothesis\n",
    "\n",
    "What is your prediction (2-3 sentences)"
   ]
  },
  {
   "cell_type": "markdown",
   "metadata": {},
   "source": [
    "Our hypothesis is that June will host the most crime because that is when tourists flock to San Diego, and they become the targets. We believe these crimes are found most at the County Sheriff’s area because it covers a large space of San Diego County that includes tourist attractions, such as Del Mar Fairgrounds, Imperial Beach, etc and that this area would show that we spend the most on crime here.\n"
   ]
  },
  {
   "cell_type": "markdown",
   "metadata": {},
   "source": [
    "### Dataset(s)\n",
    "\n",
    "What data will you use to answer your question? Describe the dataset in terms of number of observations, what kind of features it contains, etc. You must use at least one dataset containing at least approximately 1000 observations (if your data are smaller but you feel they are sufficient, email Prof. Voytek). You are welcome (and in fact recommended) to find multiple datasets! If you do so, describe each one, and briefly explain how you will combine them together. "
   ]
  },
  {
   "cell_type": "markdown",
   "metadata": {},
   "source": [
    "Dataset Name: Crime Data from Apr 2008 to Apr 2017\n",
    "- Link to the dataset: https://drive.google.com/open?id=0BzYuxBJ8_HsHRnNaNFFwRWRIU28\n",
    "- Number of observations: 108 observations per sheet\n",
    "- This is a folder containing 10 datasets, one for each agency in the city of San Diego. In each excel file, there is data for the types of crime for every month from April 2008 to April 2017 and all the information was exported to an excel file from http://crimestats.arjis.org/default.aspx which is the Automated Regional Justice Information System.\n",
    "\n",
    "Dataset Name: Public Crime Data Extract (Past 180 Days)\n",
    "- Link to the dataset: http://www.sandag.org/index.asp?classid=14&subclassid=21&projectid=446&fuseaction=projects.detail\n",
    "- Number of observations: 59086\n",
    "- This is the most recent 180 days of San Diego regional crime data as displayed on crimemapping.com. The data is in a csv file.\n",
    "\n",
    "We plan on combining the datasets because the Public Crime Data Extract (Past 180 Days) gives a more detailed view into the specific crime (i.e. time and specific location). This will give us a more specific conclusion into \n"
   ]
  },
  {
   "cell_type": "markdown",
   "metadata": {},
   "source": [
    "### Background & Prior Work\n",
    "\n",
    "Why is this question of interest, what background information led you to your hypothesis, and why is this important?\n",
    "\n",
    "Find some relevant prior work, and reference them. Even if you think you have a totally novel question, find the most similar prior work you can, and discuss how it relates to your project. \n",
    "\n",
    "References can be research publications, but they need not be: blogs, github repositories, company websites, etc., are viable references if they are relevant to your project.\n",
    "\n",
    "(2-3 paragraphs, including at least 2 references)"
   ]
  },
  {
   "cell_type": "markdown",
   "metadata": {},
   "source": [
    "This question is of interest because crime happens every day, and it would be great if we can predict something about it. In this case, it would help the society as a whole if we can predict which month crime happens the most and what area crime is likely to happen. Since we all go to school in San Diego and spend most of the year here, our safety is very important and if we can help our police department allocate their resources to reduce crime, it will help everyone in the long run. One piece of background information that led to our hypothesis of the most crimes occurring in June is because in 2014, offenses during the summer increased by an average of 4% and violent crimes during the summer increased by an average of 17%. Since San Diego has wonderful weather and enjoyable attractions all over the county, tourists are more prone to crimes like theft or assault, which is why we predicted the County Sherrif’s area to have the most crimes as well. \n",
    "\n",
    "Currently, the police department is facing a shortage of officers. It is projected that by July 2017, we will have 1,800 less officers. On top of that, funding is decreasing for the department. With these constraints, it is important to manage officer resources more efficiently since they do not have the manpower or resources to combat crime. By using the data to track specific hotbeds of crime at a certain time, police officers can focus their attention on that specific area and pull resources away from areas where there is less crime (but of course they should not reveal that). We can also distinguish which crime costs the city the most. If we wanted to focus on the most expensive crime, we can figure out the area and time where it occurs and prevent them. This would overall lower the cost of crime to the city, which then they can invest the saved money in other areas, like the police department.\n",
    "\n",
    "References (include a link):\n",
    "1) https://www.ncbi.nlm.nih.gov/pmc/articles/PMC2835847/\n",
    "2) http://www.sandiegouniontribune.com/opinion/commentary/sd-utbg-police-shortage-sdpd-alvarez-20170517-story.html\n",
    "3) http://www.governing.com/topics/public-justice-safety/gov-summer-crime-rates-increases-police.html \n"
   ]
  },
  {
   "cell_type": "markdown",
   "metadata": {},
   "source": [
    "### Proposed Methods\n",
    "\n",
    "What methods will you use to analyze your data?\n",
    "\n",
    "- How 'clean' is the data? To the extent that it requires cleaning, how will you do so?\n",
    "- How will you analyze the data? Be as specific as you can. Briefly mention any pre-processing steps that are required for your methods (for example, checking data distributions and performing any transformations that may be required). Include a brief outline of how you will apply your chosen method(s). \n",
    "- What do you plan to report? Briefly mention any key visualizations you plan to create, and/or the kind of result you will be able to report that addresses your question (this could be, for example, the outcome of some statistical test(s), prediction error on a model, a model fit parameter, etc.).\n",
    "- Include a list of packages you expect to use for you project. If you plan to use packages we have not used in class, add a very brief description about them (a few words is sufficient). "
   ]
  },
  {
   "cell_type": "markdown",
   "metadata": {},
   "source": [
    "Data Cleaning (2-3 sentences)\n",
    "In our Crime Data from Apr 2008 to Apr 2017, we want to keep everything broken down as specific crimes. We would take out the totals for violent crimes, burglaries, thefts, and property crimes. We would also take out the crime index, as we do not need it as well.\n",
    "\n",
    "Data Analysis (1-2 paragraphs)\n",
    "Prior to data analysis, we must first sum up all the respective months’ crime values for each San Diego County region. Then we need to combine all our datasets together and plot all our data. We make a separate graph comparing the month with the highest crime rate from each region to all the other regions. From then we can conclude what month has the most crimes and where it occurs. We evaluate the validity of our hypothesis against the conclusion our data has made. For the second part of our hypothesis, we take a look at the costs of the crime. We do this by taking the total of each crime throughout all San Diego and calculating the cost of crime using the current crime costs of Los Angeles. From here, we make a graph and see if the costs correlate with the amount of crimes we analyzed before.\n",
    "    \n",
    "What to report (2-3 sentences)\n",
    "We will be able to statistically predict the month and area that crime is most likely to occur. Also, we would show our conclusion via graphs of the amount of crimes in each area for all twelve months. We would also show the cost of each crime by region by creating our own dataset based on Los Angeles crime costs and then plotting the results of that to compare the cost of each crime.\n",
    "\n",
    "Packages we plan to use:\n",
    "- pandas\n",
    "- matplotlib\n",
    "- numpy\n"
   ]
  },
  {
   "cell_type": "markdown",
   "metadata": {},
   "source": [
    "### Discussion\n",
    "\n",
    "What are the pitfalls and potential confounds of your data and/or methods? For example, how might biases in your data sources or analyses influence your interpretations? What will you do if you methods don't work and/or your hypotheses are wrong?\n",
    "\n",
    "(2-3 paragraphs)"
   ]
  },
  {
   "cell_type": "markdown",
   "metadata": {},
   "source": [
    "One potential pitfall in our data analysis is when we are computing the cost of cries because we are planning on using the crime costs from Los Angeles. We do not have access to the specific San Diego crime costs, especially within the past nine years, though we believe that the costs from Los Angeles is similar to that of San Diego. Therefore, the pricing of crimes in San Diego may be an overestimation which can affect how the San Diego Police Department handles these crimes in terms of handling resources. Additionally, not all crime that has occurred in San Diego has been reported. Certain crimes, like sexual assault or theft, may go unreported because the victim feels like the offense is not worth the hassle of filing a report. There is also the possibility of human error when the police department processes these reports.\n",
    "\n",
    "If our hypothesis is wrong, we would gain an insight as to what is actually happening in the San Diego area. Our preconceived notions would be adjusted to reflect the data in order to carry through with a conclusion. Having a wrong hypothesis would be a welcome sight, because that means we discovered something that was against a popular thought among our members. If our methods do not work, we may need to hone in on specific areas in the county. This is because a county is still a large geographical area to cover, so there may be a hotbed of crime in an isolated area inside the county. \n"
   ]
  }
 ],
 "metadata": {
  "kernelspec": {
   "display_name": "Python 3",
   "language": "python",
   "name": "python3"
  },
  "language_info": {
   "codemirror_mode": {
    "name": "ipython",
    "version": 3
   },
   "file_extension": ".py",
   "mimetype": "text/x-python",
   "name": "python",
   "nbconvert_exporter": "python",
   "pygments_lexer": "ipython3",
   "version": "3.6.0"
  }
 },
 "nbformat": 4,
 "nbformat_minor": 2
}
